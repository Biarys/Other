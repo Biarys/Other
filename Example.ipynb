{
 "cells": [
  {
   "cell_type": "markdown",
   "metadata": {
    "collapsed": true
   },
   "source": [
    "Created by Biarys Saktaganov. https://github.com/Biarys"
   ]
  },
  {
   "cell_type": "code",
   "execution_count": null,
   "metadata": {
    "collapsed": true
   },
   "outputs": [],
   "source": [
    "import pandas as pd\n",
    "import os\n",
    "import pandas_datareader as pdr"
   ]
  },
  {
   "cell_type": "code",
   "execution_count": 10,
   "metadata": {
    "collapsed": true
   },
   "outputs": [],
   "source": [
    "start = '2017-01-01'\n",
    "end = '2018-01-01'"
   ]
  },
  {
   "cell_type": "code",
   "execution_count": 23,
   "metadata": {
    "collapsed": false
   },
   "outputs": [],
   "source": [
    "# Download data from Yahoo and save to Excel files\n",
    "tickers = ['FB','AAPL','MSFT']\n",
    "def get_data():\n",
    "    if not os.path.exists('stocks'):  # if path does not exist\n",
    "        os.makedirs('stocks')         # create a path\n",
    "\n",
    "    for ticker in tickers:\n",
    "            print(ticker)\n",
    "            if not os.path.exists('stocks/{}.xlsx'.format(ticker)):\n",
    "                try:\n",
    "                    df = pdr.DataReader(ticker, 'yahoo', start, end)\n",
    "                    df.to_excel('stocks/{}.xlsx'.format(ticker))       # Save to Excel file\n",
    "                except:\n",
    "                    pass\n",
    "            else:\n",
    "                pass"
   ]
  },
  {
   "cell_type": "code",
   "execution_count": 24,
   "metadata": {
    "collapsed": false
   },
   "outputs": [
    {
     "name": "stdout",
     "output_type": "stream",
     "text": [
      "FB\n",
      "AAPL\n",
      "MSFT\n"
     ]
    }
   ],
   "source": [
    "get_data()"
   ]
  },
  {
   "cell_type": "code",
   "execution_count": 37,
   "metadata": {
    "collapsed": false
   },
   "outputs": [],
   "source": [
    "# Aggregating all data into 1 data frame\n",
    "def compile_data():\n",
    "            \n",
    "    main_df = pd.DataFrame()\n",
    "    \n",
    "    for ticker in os.listdir('stocks'):\n",
    "        ticker = ticker.replace('.xlsx','')\n",
    "        try:\n",
    "            df = pd.read_excel('stocks/{}.xlsx'.format(ticker))\n",
    "            df.set_index('Date', inplace=True)\n",
    "        \n",
    "        \n",
    "            df.rename(columns = {'Adj Close': ticker}, inplace = True)\n",
    "            df.drop(['Open','High','Low','Close','Volume'], 1, inplace = True)\n",
    "        \n",
    "            if main_df.empty: #if empty\n",
    "                main_df = df  #create first column\n",
    "            else:\n",
    "                main_df = main_df.join(df, how = 'outer') #use date as key, add everything else\n",
    "        except:\n",
    "            pass    \n",
    "        #print(ticker)  # To keep track of the progress \n",
    "            \n",
    "    print(main_df)\n",
    "    main_df.to_excel('joined_closes.xlsx')"
   ]
  },
  {
   "cell_type": "code",
   "execution_count": 38,
   "metadata": {
    "collapsed": false
   },
   "outputs": [
    {
     "name": "stdout",
     "output_type": "stream",
     "text": [
      "                  AAPL          FB       MSFT\n",
      "Date                                         \n",
      "2017-01-03  114.311760  116.860001  61.213192\n",
      "2017-01-04  114.183815  118.690002  60.939304\n",
      "2017-01-05  114.764473  120.669998  60.939304\n",
      "2017-01-06  116.043915  123.410004  61.467510\n",
      "2017-01-09  117.106812  124.900002  61.271881\n",
      "2017-01-10  117.224907  124.349998  61.252316\n",
      "2017-01-11  117.854782  126.089996  61.809868\n",
      "2017-01-12  117.362694  126.620003  61.242535\n",
      "2017-01-13  117.156021  128.339996  61.330570\n",
      "2017-01-17  118.100822  127.870003  61.164280\n",
      "2017-01-18  118.090981  127.919998  61.134941\n",
      "2017-01-19  117.884300  127.550003  60.939304\n",
      "2017-01-20  118.100822  127.040001  61.369694\n",
      "2017-01-23  118.179558  128.929993  61.584888\n",
      "2017-01-24  118.071304  129.369995  62.132660\n",
      "2017-01-25  119.951073  131.479996  62.289162\n",
      "2017-01-26  120.010132  132.779999  62.866276\n",
      "2017-01-27  120.019958  132.179993  64.343300\n",
      "2017-01-30  119.705017  130.979996  63.707489\n",
      "2017-01-31  119.429459  130.320007  63.237980\n",
      "2017-02-01  126.712341  133.229996  62.191349\n",
      "2017-02-02  126.495819  130.839996  61.790302\n",
      "2017-02-03  127.037125  130.979996  62.289162\n",
      "2017-02-06  128.227966  132.059998  62.250042\n",
      "2017-02-07  129.448349  131.839996  62.044624\n",
      "2017-02-08  129.950287  134.199997  61.956593\n",
      "2017-02-09  130.889282  134.139999  62.660862\n",
      "2017-02-10  130.592758  134.190002  62.602173\n",
      "2017-02-13  131.749222  134.050003  63.306454\n",
      "2017-02-14  133.459244  133.850006  63.542629\n",
      "...                ...         ...        ...\n",
      "2017-11-16  171.100006  179.589996  83.199997\n",
      "2017-11-17  170.149994  179.000000  82.400002\n",
      "2017-11-20  169.979996  178.740005  82.529999\n",
      "2017-11-21  173.139999  181.860001  83.720001\n",
      "2017-11-22  174.960007  180.869995  83.110001\n",
      "2017-11-24  174.970001  182.779999  83.260002\n",
      "2017-11-27  174.089996  183.029999  83.870003\n",
      "2017-11-28  173.070007  182.419998  84.879997\n",
      "2017-11-29  169.479996  175.130005  83.339996\n",
      "2017-11-30  171.850006  177.179993  84.169998\n",
      "2017-12-01  171.050003  175.100006  84.260002\n",
      "2017-12-04  169.800003  171.470001  81.080002\n",
      "2017-12-05  169.639999  172.830002  81.589996\n",
      "2017-12-06  169.009995  176.059998  82.779999\n",
      "2017-12-07  169.320007  180.139999  82.489998\n",
      "2017-12-08  169.369995  179.000000  84.160004\n",
      "2017-12-11  172.669998  179.039993  85.230003\n",
      "2017-12-12  171.699997  176.960007  85.580002\n",
      "2017-12-13  172.270004  178.300003  85.349998\n",
      "2017-12-14  172.220001  178.389999  84.690002\n",
      "2017-12-15  173.970001  180.179993  86.849998\n",
      "2017-12-18  176.419998  180.820007  86.379997\n",
      "2017-12-19  174.539993  179.509995  85.830002\n",
      "2017-12-20  174.350006  177.889999  85.519997\n",
      "2017-12-21  175.009995  177.449997  85.500000\n",
      "2017-12-22  175.009995  177.199997  85.510002\n",
      "2017-12-26  170.570007  175.990005  85.400002\n",
      "2017-12-27  170.600006  177.619995  85.709999\n",
      "2017-12-28  171.080002  177.919998  85.720001\n",
      "2017-12-29  169.229996  176.460007  85.540001\n",
      "\n",
      "[251 rows x 3 columns]\n"
     ]
    }
   ],
   "source": [
    "compile_data()"
   ]
  },
  {
   "cell_type": "markdown",
   "metadata": {},
   "source": [
    "### The end"
   ]
  }
 ],
 "metadata": {
  "kernelspec": {
   "display_name": "Python 3",
   "language": "python",
   "name": "python3"
  },
  "language_info": {
   "codemirror_mode": {
    "name": "ipython",
    "version": 3
   },
   "file_extension": ".py",
   "mimetype": "text/x-python",
   "name": "python",
   "nbconvert_exporter": "python",
   "pygments_lexer": "ipython3",
   "version": "3.6.1"
  }
 },
 "nbformat": 4,
 "nbformat_minor": 2
}
